{
 "cells": [
  {
   "cell_type": "markdown",
   "metadata": {},
   "source": [
    "# Theory (15%)"
   ]
  },
  {
   "cell_type": "markdown",
   "metadata": {},
   "source": [
    "## Question 1\n",
    "\n",
    "*What is the difference between a rule-based system and a machine learning\n",
    "system? (5%)*\n",
    "\n",
    "A rule-based system involves a set of pre-defined rules that are applied to data. The output of which are known as the answers. This system does not seek to learn from the input provided, it simply executes the rules defined. For example, if the height of a person is above 180cm label them 'tall', otherwise label them 'small'. \n",
    "\n",
    "A machine learning system is trained, rather than defined, by providing it with data and answers (only if it is supervised machine learning). The system looks for statistical structure in this input and outputs the rules to be used. For example, predict the height of school children in Cardiff by learning from data that provides the age and height of school children in Swansea."
   ]
  },
  {
   "cell_type": "markdown",
   "metadata": {},
   "source": [
    "## Question 2\n",
    "\n",
    "*What is the difference between unsupervised and supervised learning? (5%)*\n",
    "\n",
    "Supervised learning is when a machine learning system is provided the output variable as well as the input variables. By providing the system with the 'answer' it is able learn the statistical characteristics of an observation that leads to a particular output (continuous or categorical). The resulting algorithm can then be used to predict future, unknown outputs. For example, predicting height given age by providing the height and age of school children.\n",
    "\n",
    "Unsupervised learning is when a machine learning system is only provided with input variables, no output variables are supplied. The system can't predict outcome as no 'answer' is supplied. Instead, it has to produce an algortihm to classify each observation to a pre-defined number of groups. To do this it looks for statistical similarities between the observations. For example, grouping animals that are similar given information about their size and speed."
   ]
  },
  {
   "cell_type": "markdown",
   "metadata": {},
   "source": [
    "## Question 3\n",
    "\n",
    "*What do we mean when we say that a machine learning system is overfitting? (5%)*\n",
    "\n",
    "Overfitting occurs when a machine learning system produces an algorithm that too specifically fits itself to the training data provided. This will often result in high accuracy on that one dataset, but low accuracy when applied to new, unseen data. A system that is overfitting will try to over complicate the model and will not take into account the element of randomness (known as white noise) that occurs in each observation."
   ]
  },
  {
   "cell_type": "code",
   "execution_count": null,
   "metadata": {},
   "outputs": [],
   "source": []
  }
 ],
 "metadata": {
  "kernelspec": {
   "display_name": "Python 3",
   "language": "python",
   "name": "python3"
  },
  "language_info": {
   "codemirror_mode": {
    "name": "ipython",
    "version": 3
   },
   "file_extension": ".py",
   "mimetype": "text/x-python",
   "name": "python",
   "nbconvert_exporter": "python",
   "pygments_lexer": "ipython3",
   "version": "3.7.3"
  }
 },
 "nbformat": 4,
 "nbformat_minor": 2
}
