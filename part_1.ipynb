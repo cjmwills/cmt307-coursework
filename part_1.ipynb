{
 "cells": [
  {
   "cell_type": "markdown",
   "metadata": {},
   "source": [
    "# Theory (15%)"
   ]
  },
  {
   "cell_type": "markdown",
   "metadata": {},
   "source": [
    "## Question 1\n",
    "\n",
    "*What is the difference between a rule-based system and a machine learning\n",
    "system? (5%)*\n",
    "\n",
    "A rule-based system involves a set of pre-defined rules that are applied to data. The output of which are known as the answers. This system does not seek to learn from the input provided, it simply executes the rules defined. For example, if the height of a person is above 180cm label them 'tall', otherwise label them 'small'. \n",
    "\n",
    "A machine learning system is trained, rather than defined, by providing it with data and answers (only if it is supervised machine learning). The system looks for statistical structure in this input and outputs the rules to be used. For example, predict the height of school children in Cardiff by learning from data that provides the age and height of school children in Swansea."
   ]
  },
  {
   "cell_type": "markdown",
   "metadata": {},
   "source": [
    "## Question 2\n",
    "\n",
    "*What is the difference between unsupervised and supervised learning? (5%)*\n",
    "\n",
    "Supervised learning is when a machine learning system is provided the output variable as well as the input variables. By providing the system with the 'answer' it is able learn the statistical characteristics of an observation that leads to a particular output (continuous or categorical). The resulting algorithm can then be used to predict future, unknown outputs. For example, predicting height given age by providing the height and age of school children.\n",
    "\n",
    "Unsupervised learning is when a machine learning system is only provided with input variables, no output variables are supplied. The system can't predict outcome as no 'answer' is supplied. Instead, it has to produce an algortihm to classify each observation to a pre-defined number of groups. To do this it looks for statistical similarities between the observations. For example, grouping animals that are similar given information about their size and speed."
   ]
  },
  {
   "cell_type": "markdown",
   "metadata": {},
   "source": [
    "## Question 3\n",
    "\n",
    "*What do we mean when we say that a machine learning system is overfitting? (5%)*\n",
    "\n",
    "Overfitting occurs when a machine learning system produces an algorithm that too specifically fits itself to the training data provided. This will often result in high accuracy on that one dataset, but low accuracy when applied to new, unseen data. A system that is overfitting will try to over complicate the model and will not take into account the element of randomness (known as white noise) that occurs in each observation."
   ]
  },
  {
   "cell_type": "markdown",
   "metadata": {},
   "source": [
    "# Practical (85%)"
   ]
  },
  {
   "cell_type": "markdown",
   "metadata": {},
   "source": [
    "## Question 1\n",
    "\n",
    "*Your algorithm gets the following results in a classification experiment. Please compute the precision, recall, f-measure and accuracy manually (without the help of your computer/Python, please provide all steps and formulas). Include the process to get to the final result. (20%)*\n",
    "\n",
    "Id | Prediction | Gold\n",
    "- | - | -\n",
    "1 | True | True\n",
    "2 | True | True\n",
    "3 | False | True\n",
    "4 | True | True\n",
    "5 | False | True\n",
    "6 | False | True\n",
    "7 | True | True\n",
    "8 | True | True\n",
    "9 | True | True\n",
    "10 | False | False\n",
    "11 | False | False\n",
    "12 | False | False\n",
    "13 | True | False\n",
    "14 | False | False\n",
    "15 | False | False\n",
    "16 | False | False\n",
    "17 | False | False\n",
    "18 | True | False\n",
    "19 | True | False\n",
    "20 | False | False"
   ]
  },
  {
   "cell_type": "markdown",
   "metadata": {},
   "source": [
    "To compute the evaluation measures, we first need to construct the confusion matrix. This can be done by manually counting the combinations of True and False between the prediction and the gold standard i.e. True/True, True/False, False/True, False/False.\n",
    "\n",
    "Confusion Matrix | Predicted: True | Predicted: False | Total\n",
    "- | - | - | -\n",
    "Actual: True | 6 (TP) | 3 (FP) | 9\n",
    "Actual: False | 3 (FN) | 8 (TN) | 11\n",
    "Total | 9 | 11 | 20\n",
    "\n",
    "Where TP is the number of True Positives, FP is False Positives, FN is False Negatives, and TN is True Negatives. Now we can compute the following measures;"
   ]
  },
  {
   "cell_type": "markdown",
   "metadata": {},
   "source": [
    "### Accuracy\n",
    "\n",
    "Defined as the proportion of individuals correctly classified.\n",
    "\n",
    "$Accuracy = \\dfrac{TP + TN}{TP + TN + FP + FN}$\n",
    "\n",
    "$Accuracy = \\dfrac{6 + 8}{6 + 8 + 3 + 3}$\n",
    "\n",
    "$Accuracy = \\dfrac{14}{20}$\n",
    "\n",
    "$Accuracy = 0.7$"
   ]
  },
  {
   "cell_type": "markdown",
   "metadata": {},
   "source": [
    "### Precision\n",
    "\n",
    "Defined as the proportion of positive predictions that are correct.\n",
    "\n",
    "$Precision = \\dfrac{TP}{TP + FP}$\n",
    "\n",
    "$Precision = \\dfrac{6}{6 + 3}$\n",
    "\n",
    "$Precision = \\dfrac{2}{3}$\n",
    "\n",
    "$Precision = 0.667$ $(3dp)$"
   ]
  },
  {
   "cell_type": "markdown",
   "metadata": {},
   "source": [
    "### Recall\n",
    "\n",
    "Defined as the proportion of positive cases that were predicted as positive.\n",
    "\n",
    "$Recall = \\dfrac{TP}{TP + FN}$\n",
    "\n",
    "$Recall = \\dfrac{6}{6 + 3}$\n",
    "\n",
    "$Recall = \\dfrac{2}{3}$\n",
    "\n",
    "$Recall = 0.667$ $(3dp)$"
   ]
  },
  {
   "cell_type": "markdown",
   "metadata": {},
   "source": [
    "### F-Measure\n",
    "\n",
    "Defined as the harmonic mean of precision and recall. It's used to evaluate the performance of an algorithm in which you aren't neccesarily trying to improve only the precision or only the recall.\n",
    "\n",
    "$F_1 = 2 \\times \\dfrac{precision \\times recall}{precision + recall}$\n",
    "\n",
    "$F_1 = 2 \\times \\dfrac{\\dfrac{2}{3} \\times \\dfrac{2}{3}}{\\dfrac{2}{3} + \\dfrac{2}{3}}$\n",
    "\n",
    "$F_1 = 2/3$\n",
    "\n",
    "$F_1 = 0.667$ $(3dp)$"
   ]
  },
  {
   "cell_type": "markdown",
   "metadata": {},
   "source": [
    "## Question 2\n",
    "\n",
    "*You are given a dataset (named Wine dataset) with different measured properties of different wines (dataset available in Learning Central). Your goal is to develop a machine learning model to predict the quality of an unseen wine given these properties. Train two machine learning regression models and check their performance. Write, for each of the models, the main Python instructions to train and predict the labels (one line each, no need to include any data preprocessing) and the performance in the test set in terms of Root Mean Squared Error (RMSE) (30%)* "
   ]
  },
  {
   "cell_type": "markdown",
   "metadata": {},
   "source": [
    "### Load necessary modules "
   ]
  },
  {
   "cell_type": "code",
   "execution_count": 1,
   "metadata": {},
   "outputs": [],
   "source": [
    "import pandas as pd\n",
    "import numpy as np\n",
    "from sklearn.linear_model import LinearRegression\n",
    "from sklearn.metrics import mean_squared_error\n",
    "from math import sqrt"
   ]
  },
  {
   "cell_type": "markdown",
   "metadata": {},
   "source": [
    "### Read in training and test data"
   ]
  },
  {
   "cell_type": "code",
   "execution_count": 2,
   "metadata": {},
   "outputs": [
    {
     "data": {
      "text/html": [
       "<div>\n",
       "<style scoped>\n",
       "    .dataframe tbody tr th:only-of-type {\n",
       "        vertical-align: middle;\n",
       "    }\n",
       "\n",
       "    .dataframe tbody tr th {\n",
       "        vertical-align: top;\n",
       "    }\n",
       "\n",
       "    .dataframe thead th {\n",
       "        text-align: right;\n",
       "    }\n",
       "</style>\n",
       "<table border=\"1\" class=\"dataframe\">\n",
       "  <thead>\n",
       "    <tr style=\"text-align: right;\">\n",
       "      <th></th>\n",
       "      <th>fixed acidity</th>\n",
       "      <th>volatile acidity</th>\n",
       "      <th>citric acid</th>\n",
       "      <th>residual sugar</th>\n",
       "      <th>chlorides</th>\n",
       "      <th>free sulfur dioxide</th>\n",
       "      <th>total sulfur dioxide</th>\n",
       "      <th>density</th>\n",
       "      <th>pH</th>\n",
       "      <th>sulphates</th>\n",
       "      <th>alcohol</th>\n",
       "      <th>quality</th>\n",
       "    </tr>\n",
       "  </thead>\n",
       "  <tbody>\n",
       "    <tr>\n",
       "      <th>0</th>\n",
       "      <td>7.0</td>\n",
       "      <td>0.27</td>\n",
       "      <td>0.36</td>\n",
       "      <td>20.7</td>\n",
       "      <td>0.045</td>\n",
       "      <td>45.0</td>\n",
       "      <td>170.0</td>\n",
       "      <td>1.0010</td>\n",
       "      <td>3.00</td>\n",
       "      <td>0.45</td>\n",
       "      <td>8.8</td>\n",
       "      <td>6</td>\n",
       "    </tr>\n",
       "    <tr>\n",
       "      <th>1</th>\n",
       "      <td>6.3</td>\n",
       "      <td>0.30</td>\n",
       "      <td>0.34</td>\n",
       "      <td>1.6</td>\n",
       "      <td>0.049</td>\n",
       "      <td>14.0</td>\n",
       "      <td>132.0</td>\n",
       "      <td>0.9940</td>\n",
       "      <td>3.30</td>\n",
       "      <td>0.49</td>\n",
       "      <td>9.5</td>\n",
       "      <td>6</td>\n",
       "    </tr>\n",
       "    <tr>\n",
       "      <th>2</th>\n",
       "      <td>8.1</td>\n",
       "      <td>0.28</td>\n",
       "      <td>0.40</td>\n",
       "      <td>6.9</td>\n",
       "      <td>0.050</td>\n",
       "      <td>30.0</td>\n",
       "      <td>97.0</td>\n",
       "      <td>0.9951</td>\n",
       "      <td>3.26</td>\n",
       "      <td>0.44</td>\n",
       "      <td>10.1</td>\n",
       "      <td>6</td>\n",
       "    </tr>\n",
       "    <tr>\n",
       "      <th>3</th>\n",
       "      <td>7.2</td>\n",
       "      <td>0.23</td>\n",
       "      <td>0.32</td>\n",
       "      <td>8.5</td>\n",
       "      <td>0.058</td>\n",
       "      <td>47.0</td>\n",
       "      <td>186.0</td>\n",
       "      <td>0.9956</td>\n",
       "      <td>3.19</td>\n",
       "      <td>0.40</td>\n",
       "      <td>9.9</td>\n",
       "      <td>6</td>\n",
       "    </tr>\n",
       "    <tr>\n",
       "      <th>4</th>\n",
       "      <td>6.2</td>\n",
       "      <td>0.32</td>\n",
       "      <td>0.16</td>\n",
       "      <td>7.0</td>\n",
       "      <td>0.045</td>\n",
       "      <td>30.0</td>\n",
       "      <td>136.0</td>\n",
       "      <td>0.9949</td>\n",
       "      <td>3.18</td>\n",
       "      <td>0.47</td>\n",
       "      <td>9.6</td>\n",
       "      <td>6</td>\n",
       "    </tr>\n",
       "  </tbody>\n",
       "</table>\n",
       "</div>"
      ],
      "text/plain": [
       "   fixed acidity  volatile acidity  citric acid  residual sugar  chlorides  \\\n",
       "0            7.0              0.27         0.36            20.7      0.045   \n",
       "1            6.3              0.30         0.34             1.6      0.049   \n",
       "2            8.1              0.28         0.40             6.9      0.050   \n",
       "3            7.2              0.23         0.32             8.5      0.058   \n",
       "4            6.2              0.32         0.16             7.0      0.045   \n",
       "\n",
       "   free sulfur dioxide  total sulfur dioxide  density    pH  sulphates  \\\n",
       "0                 45.0                 170.0   1.0010  3.00       0.45   \n",
       "1                 14.0                 132.0   0.9940  3.30       0.49   \n",
       "2                 30.0                  97.0   0.9951  3.26       0.44   \n",
       "3                 47.0                 186.0   0.9956  3.19       0.40   \n",
       "4                 30.0                 136.0   0.9949  3.18       0.47   \n",
       "\n",
       "   alcohol  quality  \n",
       "0      8.8        6  \n",
       "1      9.5        6  \n",
       "2     10.1        6  \n",
       "3      9.9        6  \n",
       "4      9.6        6  "
      ]
     },
     "execution_count": 2,
     "metadata": {},
     "output_type": "execute_result"
    }
   ],
   "source": [
    "wine_train = pd.read_csv(\"Data/Wine/wine_train.csv\", sep=';')\n",
    "wine_train.head()"
   ]
  },
  {
   "cell_type": "code",
   "execution_count": 3,
   "metadata": {},
   "outputs": [
    {
     "data": {
      "text/html": [
       "<div>\n",
       "<style scoped>\n",
       "    .dataframe tbody tr th:only-of-type {\n",
       "        vertical-align: middle;\n",
       "    }\n",
       "\n",
       "    .dataframe tbody tr th {\n",
       "        vertical-align: top;\n",
       "    }\n",
       "\n",
       "    .dataframe thead th {\n",
       "        text-align: right;\n",
       "    }\n",
       "</style>\n",
       "<table border=\"1\" class=\"dataframe\">\n",
       "  <thead>\n",
       "    <tr style=\"text-align: right;\">\n",
       "      <th></th>\n",
       "      <th>fixed acidity</th>\n",
       "      <th>volatile acidity</th>\n",
       "      <th>citric acid</th>\n",
       "      <th>residual sugar</th>\n",
       "      <th>chlorides</th>\n",
       "      <th>free sulfur dioxide</th>\n",
       "      <th>total sulfur dioxide</th>\n",
       "      <th>density</th>\n",
       "      <th>pH</th>\n",
       "      <th>sulphates</th>\n",
       "      <th>alcohol</th>\n",
       "      <th>quality</th>\n",
       "    </tr>\n",
       "  </thead>\n",
       "  <tbody>\n",
       "    <tr>\n",
       "      <th>0</th>\n",
       "      <td>7.2</td>\n",
       "      <td>0.23</td>\n",
       "      <td>0.32</td>\n",
       "      <td>8.50</td>\n",
       "      <td>0.058</td>\n",
       "      <td>47.0</td>\n",
       "      <td>186.0</td>\n",
       "      <td>0.9956</td>\n",
       "      <td>3.19</td>\n",
       "      <td>0.40</td>\n",
       "      <td>9.9</td>\n",
       "      <td>6</td>\n",
       "    </tr>\n",
       "    <tr>\n",
       "      <th>1</th>\n",
       "      <td>8.1</td>\n",
       "      <td>0.28</td>\n",
       "      <td>0.40</td>\n",
       "      <td>6.90</td>\n",
       "      <td>0.050</td>\n",
       "      <td>30.0</td>\n",
       "      <td>97.0</td>\n",
       "      <td>0.9951</td>\n",
       "      <td>3.26</td>\n",
       "      <td>0.44</td>\n",
       "      <td>10.1</td>\n",
       "      <td>6</td>\n",
       "    </tr>\n",
       "    <tr>\n",
       "      <th>2</th>\n",
       "      <td>8.1</td>\n",
       "      <td>0.22</td>\n",
       "      <td>0.43</td>\n",
       "      <td>1.50</td>\n",
       "      <td>0.044</td>\n",
       "      <td>28.0</td>\n",
       "      <td>129.0</td>\n",
       "      <td>0.9938</td>\n",
       "      <td>3.22</td>\n",
       "      <td>0.45</td>\n",
       "      <td>11.0</td>\n",
       "      <td>6</td>\n",
       "    </tr>\n",
       "    <tr>\n",
       "      <th>3</th>\n",
       "      <td>8.1</td>\n",
       "      <td>0.27</td>\n",
       "      <td>0.41</td>\n",
       "      <td>1.45</td>\n",
       "      <td>0.033</td>\n",
       "      <td>11.0</td>\n",
       "      <td>63.0</td>\n",
       "      <td>0.9908</td>\n",
       "      <td>2.99</td>\n",
       "      <td>0.56</td>\n",
       "      <td>12.0</td>\n",
       "      <td>5</td>\n",
       "    </tr>\n",
       "    <tr>\n",
       "      <th>4</th>\n",
       "      <td>6.2</td>\n",
       "      <td>0.66</td>\n",
       "      <td>0.48</td>\n",
       "      <td>1.20</td>\n",
       "      <td>0.029</td>\n",
       "      <td>29.0</td>\n",
       "      <td>75.0</td>\n",
       "      <td>0.9892</td>\n",
       "      <td>3.33</td>\n",
       "      <td>0.39</td>\n",
       "      <td>12.8</td>\n",
       "      <td>8</td>\n",
       "    </tr>\n",
       "  </tbody>\n",
       "</table>\n",
       "</div>"
      ],
      "text/plain": [
       "   fixed acidity  volatile acidity  citric acid  residual sugar  chlorides  \\\n",
       "0            7.2              0.23         0.32            8.50      0.058   \n",
       "1            8.1              0.28         0.40            6.90      0.050   \n",
       "2            8.1              0.22         0.43            1.50      0.044   \n",
       "3            8.1              0.27         0.41            1.45      0.033   \n",
       "4            6.2              0.66         0.48            1.20      0.029   \n",
       "\n",
       "   free sulfur dioxide  total sulfur dioxide  density    pH  sulphates  \\\n",
       "0                 47.0                 186.0   0.9956  3.19       0.40   \n",
       "1                 30.0                  97.0   0.9951  3.26       0.44   \n",
       "2                 28.0                 129.0   0.9938  3.22       0.45   \n",
       "3                 11.0                  63.0   0.9908  2.99       0.56   \n",
       "4                 29.0                  75.0   0.9892  3.33       0.39   \n",
       "\n",
       "   alcohol  quality  \n",
       "0      9.9        6  \n",
       "1     10.1        6  \n",
       "2     11.0        6  \n",
       "3     12.0        5  \n",
       "4     12.8        8  "
      ]
     },
     "execution_count": 3,
     "metadata": {},
     "output_type": "execute_result"
    }
   ],
   "source": [
    "wine_test = pd.read_csv(\"Data/Wine/wine_test.csv\", sep=';')\n",
    "wine_test.head()"
   ]
  },
  {
   "cell_type": "markdown",
   "metadata": {},
   "source": [
    "### Model 1\n",
    "\n",
    "Least squares linear regression will be used to predict wine quality for the first model. It will use only one predictor variable; residual sugar."
   ]
  },
  {
   "cell_type": "code",
   "execution_count": 22,
   "metadata": {},
   "outputs": [],
   "source": [
    "wine_train_x_m1 = wine_train[['residual sugar']]\n",
    "wine_train_y = wine_train['quality']\n",
    "wine_test_x_m1 = wine_test[['residual sugar']]\n",
    "wine_test_y = wine_test['quality']"
   ]
  },
  {
   "cell_type": "code",
   "execution_count": 23,
   "metadata": {},
   "outputs": [],
   "source": [
    "lin_reg_m1 = LinearRegression()\n",
    "lin_reg_m1.fit(wine_train_x_m1, wine_train_y)\n",
    "predictions_m1 = lin_reg_m1.predict(wine_test_x_m1)\n",
    "rmse_m1 = sqrt(mean_squared_error(wine_test_y, predictions_m1))"
   ]
  },
  {
   "cell_type": "markdown",
   "metadata": {},
   "source": [
    "### Model 2\n",
    "\n",
    "Least squares linear regression will be used to predict wine quality for the second model. It will use two predictor variables; alcohol and volatile acidity."
   ]
  },
  {
   "cell_type": "code",
   "execution_count": 24,
   "metadata": {},
   "outputs": [],
   "source": [
    "wine_train_x_m2 = wine_train[['alcohol', 'volatile acidity']]\n",
    "wine_test_x_m2 = wine_test[['alcohol', 'volatile acidity']]"
   ]
  },
  {
   "cell_type": "code",
   "execution_count": 25,
   "metadata": {},
   "outputs": [],
   "source": [
    "lin_reg_m2 = LinearRegression()\n",
    "lin_reg_m2.fit(wine_train_x_m2, wine_train_y)\n",
    "predictions_m2 = lin_reg_m2.predict(wine_test_x_m2)\n",
    "rmse_m2 = sqrt(mean_squared_error(wine_test_y, predictions_m2))"
   ]
  },
  {
   "cell_type": "markdown",
   "metadata": {},
   "source": [
    "### Compare Models"
   ]
  },
  {
   "cell_type": "code",
   "execution_count": 27,
   "metadata": {},
   "outputs": [
    {
     "name": "stdout",
     "output_type": "stream",
     "text": [
      "Root Mean Square Error for Model 1 \n",
      "----------\n",
      "0.886\n",
      "\n",
      " Root Mean Square Error for Model 2 \n",
      "----------\n",
      "0.788\n"
     ]
    }
   ],
   "source": [
    "print('Root Mean Square Error for Model 1 \\n----------')\n",
    "print(round(rmse_m1, 3))\n",
    "print('\\n Root Mean Square Error for Model 2 \\n----------')\n",
    "print(round(rmse_m2, 3))"
   ]
  },
  {
   "cell_type": "markdown",
   "metadata": {},
   "source": [
    "### Conclusion\n",
    "\n",
    "Comparing the root mean square error (RMSE) of both models indicates that model 2 outperformed model 1. The root mean square error measures the difference between the predictions and the 'true' results. Therefore a smaller RMSE indicates a more accurate model. That is, by including both alcohol and volatile acidity in the model, better predictions of wine quality are achieved than if only residual sugar is used."
   ]
  }
 ],
 "metadata": {
  "kernelspec": {
   "display_name": "Python 3",
   "language": "python",
   "name": "python3"
  },
  "language_info": {
   "codemirror_mode": {
    "name": "ipython",
    "version": 3
   },
   "file_extension": ".py",
   "mimetype": "text/x-python",
   "name": "python",
   "nbconvert_exporter": "python",
   "pygments_lexer": "ipython3",
   "version": "3.7.3"
  }
 },
 "nbformat": 4,
 "nbformat_minor": 2
}
