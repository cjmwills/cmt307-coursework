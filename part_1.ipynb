{
 "cells": [
  {
   "cell_type": "markdown",
   "metadata": {},
   "source": [
    "# Theory (15%)"
   ]
  },
  {
   "cell_type": "markdown",
   "metadata": {},
   "source": [
    "## Question 1\n",
    "\n",
    "*What is the difference between a rule-based system and a machine learning\n",
    "system? (5%)*\n",
    "\n",
    "A rule-based system involves a set of pre-defined rules that are applied to data. The output of which are known as the answers. This system does not seek to learn from the input provided, it simply executes the rules defined. For example, if the height of a person is above 180cm label them 'tall', otherwise label them 'small'. \n",
    "\n",
    "A machine learning system is trained, rather than defined, by providing it with data and answers (only if it is supervised machine learning). The system looks for statistical structure in this input and outputs the rules to be used. For example, predict the height of school children in Cardiff by learning from data that provides the age and height of school children in Swansea."
   ]
  },
  {
   "cell_type": "markdown",
   "metadata": {},
   "source": [
    "## Question 2\n",
    "\n",
    "*What is the difference between unsupervised and supervised learning? (5%)*\n",
    "\n",
    "Supervised learning is when a machine learning system is provided the output variable as well as the input variables. By providing the system with the 'answer' it is able learn the statistical characteristics of an observation that leads to a particular output (continuous or categorical). The resulting algorithm can then be used to predict future, unknown outputs. For example, predicting height given age by providing the height and age of school children.\n",
    "\n",
    "Unsupervised learning is when a machine learning system is only provided with input variables, no output variables are supplied. The system can't predict outcome as no 'answer' is supplied. Instead, it has to produce an algortihm to classify each observation to a pre-defined number of groups. To do this it looks for statistical similarities between the observations. For example, grouping animals that are similar given information about their size and speed."
   ]
  },
  {
   "cell_type": "markdown",
   "metadata": {},
   "source": [
    "## Question 3\n",
    "\n",
    "*What do we mean when we say that a machine learning system is overfitting? (5%)*\n",
    "\n",
    "Overfitting occurs when a machine learning system produces an algorithm that too specifically fits itself to the training data provided. This will often result in high accuracy on that one dataset, but low accuracy when applied to new, unseen data. A system that is overfitting will try to over complicate the model and will not take into account the element of randomness (known as white noise) that occurs in each observation."
   ]
  },
  {
   "cell_type": "markdown",
   "metadata": {},
   "source": [
    "# Practical (85%)"
   ]
  },
  {
   "cell_type": "markdown",
   "metadata": {},
   "source": [
    "## Question 1\n",
    "\n",
    "*Your algorithm gets the following results in a classification experiment. Please compute the precision, recall, f-measure and accuracy manually (without the help of your computer/Python, please provide all steps and formulas). Include the process to get to the final result. (20%)*\n",
    "\n",
    "Id | Prediction | Gold\n",
    "- | - | -\n",
    "1 | True | True\n",
    "2 | True | True\n",
    "3 | False | True\n",
    "4 | True | True\n",
    "5 | False | True\n",
    "6 | False | True\n",
    "7 | True | True\n",
    "8 | True | True\n",
    "9 | True | True\n",
    "10 | False | False\n",
    "11 | False | False\n",
    "12 | False | False\n",
    "13 | True | False\n",
    "14 | False | False\n",
    "15 | False | False\n",
    "16 | False | False\n",
    "17 | False | False\n",
    "18 | True | False\n",
    "19 | True | False\n",
    "20 | False | False"
   ]
  },
  {
   "cell_type": "markdown",
   "metadata": {},
   "source": [
    "To compute the evaluation measures, we first need to construct the confusion matrix. This can be done by manually counting the combinations of True and False between the prediction and the gold standard i.e. True/True, True/False, False/True, False/False.\n",
    "\n",
    "Confusion Matrix | Predicted: True | Predicted: False | Total\n",
    "- | - | - | -\n",
    "Actual: True | 6 (TP) | 3 (FP) | 9\n",
    "Actual: False | 3 (FN) | 8 (TN) | 11\n",
    "Total | 9 | 11 | 20\n",
    "\n",
    "Where TP is the number of True Positives, FP is False Positives, FN is False Negatives, and TN is True Negatives. Now we can compute the following measures;"
   ]
  },
  {
   "cell_type": "markdown",
   "metadata": {},
   "source": [
    "### Accuracy\n",
    "\n",
    "Defined as the proportion of individuals correctly classified.\n",
    "\n",
    "$Accuracy = \\dfrac{TP + TN}{TP + TN + FP + FN}$\n",
    "\n",
    "$Accuracy = \\dfrac{6 + 8}{6 + 8 + 3 + 3}$\n",
    "\n",
    "$Accuracy = \\dfrac{14}{20}$\n",
    "\n",
    "$Accuracy = 0.7$"
   ]
  },
  {
   "cell_type": "markdown",
   "metadata": {},
   "source": [
    "### Precision\n",
    "\n",
    "Defined as the proportion of positive predictions that are correct.\n",
    "\n",
    "$Precision = \\dfrac{TP}{TP + FP}$\n",
    "\n",
    "$Precision = \\dfrac{6}{6 + 3}$\n",
    "\n",
    "$Precision = \\dfrac{2}{3}$\n",
    "\n",
    "$Precision = 0.667$ $(3dp)$"
   ]
  },
  {
   "cell_type": "markdown",
   "metadata": {},
   "source": [
    "### Recall\n",
    "\n",
    "Defined as the proportion of positive cases that were predicted as positive.\n",
    "\n",
    "$Recall = \\dfrac{TP}{TP + FN}$\n",
    "\n",
    "$Recall = \\dfrac{6}{6 + 3}$\n",
    "\n",
    "$Recall = \\dfrac{2}{3}$\n",
    "\n",
    "$Recall = 0.667$ $(3dp)$"
   ]
  },
  {
   "cell_type": "markdown",
   "metadata": {},
   "source": [
    "### F-Measure\n",
    "\n",
    "Defined as the harmonic mean of precision and recall. It's used to evaluate the performance of an algorithm in which you aren't neccesarily trying to improve only the precision or only the recall.\n",
    "\n",
    "$F_1 = 2 \\times \\dfrac{precision \\times recall}{precision + recall}$\n",
    "\n",
    "$F_1 = 2 \\times \\dfrac{\\dfrac{2}{3} \\times \\dfrac{2}{3}}{\\dfrac{2}{3} + \\dfrac{2}{3}}$\n",
    "\n",
    "$F_1 = 2/3$\n",
    "\n",
    "$F_1 = 0.667$ $(3dp)$"
   ]
  },
  {
   "cell_type": "markdown",
   "metadata": {},
   "source": [
    "## Question 2\n",
    "\n",
    "*You are given a dataset (named Wine dataset) with different measured properties of different wines (dataset available in Learning Central). Your goal is to develop a machine learning model to predict the quality of an unseen wine given these properties. Train two machine learning regression models and check their performance. Write, for each of the models, the main Python instructions to train and predict the labels (one line each, no need to include any data preprocessing) and the performance in the test set in terms of Root Mean Squared Error (RMSE) (30%)* "
   ]
  }
 ],
 "metadata": {
  "kernelspec": {
   "display_name": "Python 3",
   "language": "python",
   "name": "python3"
  },
  "language_info": {
   "codemirror_mode": {
    "name": "ipython",
    "version": 3
   },
   "file_extension": ".py",
   "mimetype": "text/x-python",
   "name": "python",
   "nbconvert_exporter": "python",
   "pygments_lexer": "ipython3",
   "version": "3.7.3"
  }
 },
 "nbformat": 4,
 "nbformat_minor": 2
}
